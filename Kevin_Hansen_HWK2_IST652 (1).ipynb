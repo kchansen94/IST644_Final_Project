{
 "cells": [
  {
   "cell_type": "code",
   "execution_count": 1,
   "id": "810afb47",
   "metadata": {},
   "outputs": [],
   "source": [
    "#MongoDB and JSON data\n",
    "\n",
    "import json\n",
    "import pymongo\n",
    "import os\n",
    "import json\n",
    "import matplotlib.pyplot as plt\n",
    "import pandas as pd"
   ]
  },
  {
   "cell_type": "code",
   "execution_count": 2,
   "id": "b8a12ead",
   "metadata": {},
   "outputs": [
    {
     "name": "stdout",
     "output_type": "stream",
     "text": [
      "97410\n"
     ]
    }
   ],
   "source": [
    "dataset = {}\n",
    "if os.path.exists('games.json'):\n",
    "  with open('games.json', 'r', encoding='utf-8') as fin:\n",
    "    text = fin.read()\n",
    "    if len(text) > 0:\n",
    "      dataset = json.loads(text)\n",
    "    \n",
    "print(len(dataset))"
   ]
  },
  {
   "cell_type": "code",
   "execution_count": 8,
   "id": "73ae5ca1",
   "metadata": {},
   "outputs": [],
   "source": [
    "# Extract release dates and game names\n",
    "release_dates = []\n",
    "game_names = []\n",
    "positive_scores = []\n",
    "negative_scores = []\n",
    "for app in dataset:\n",
    "    game = dataset[app]\n",
    "    release_dates.append(game['release_date'])\n",
    "    game_names.append(game['name'])\n",
    "    positive_scores.append(game['positive'])\n",
    "    negative_scores.append(game['negative'])\n",
    "    \n",
    "# Create a DataFrame\n",
    "data = {'Release Date': release_dates, 'Game Name': game_names,\n",
    "        'positive': positive_scores, 'negative': negative_scores}\n",
    "df = pd.DataFrame(data)\n",
    "\n"
   ]
  },
  {
   "cell_type": "code",
   "execution_count": 9,
   "id": "0e83d5dd",
   "metadata": {},
   "outputs": [
    {
     "name": "stdout",
     "output_type": "stream",
     "text": [
      "Total Concurrent Players: 15851360\n",
      "Average Concurrent Players: 162.73\n",
      "Minimum Concurrent Players: 0\n",
      "Maximum Concurrent Players: 1284268\n"
     ]
    }
   ],
   "source": [
    "# Extract peak concurrent users\n",
    "peak_ccu_list = [game['peak_ccu'] for game in dataset.values()]\n",
    "\n",
    "# Calculate summary statistics\n",
    "total_ccu = sum(peak_ccu_list)\n",
    "average_ccu = sum(peak_ccu_list) / len(peak_ccu_list) if peak_ccu_list else 0\n",
    "min_ccu = min(peak_ccu_list) if peak_ccu_list else 0\n",
    "max_ccu = max(peak_ccu_list) if peak_ccu_list else 0\n",
    "\n",
    "# Print the summary\n",
    "print(f\"Total Concurrent Players: {total_ccu}\")\n",
    "print(f\"Average Concurrent Players: {average_ccu:.2f}\")\n",
    "print(f\"Minimum Concurrent Players: {min_ccu}\")\n",
    "print(f\"Maximum Concurrent Players: {max_ccu}\")"
   ]
  },
  {
   "cell_type": "code",
   "execution_count": 10,
   "id": "fd80858c",
   "metadata": {},
   "outputs": [
    {
     "name": "stdout",
     "output_type": "stream",
     "text": [
      "Palworld\n",
      "1284268\n"
     ]
    }
   ],
   "source": [
    "# Game that has the most concurrent players\n",
    "# Initialize variables to track the game with the max concurrent players\n",
    "max_ccu = 0\n",
    "max_ccu_game = None\n",
    "for app in dataset:\n",
    "    game = dataset[app]\n",
    "    if game['peak_ccu'] > max_ccu:\n",
    "        max_ccu = game['peak_ccu']\n",
    "        max_ccu_game = game\n",
    "\n",
    "print(max_ccu_game['name'])\n",
    "print(max_ccu_game['peak_ccu'])"
   ]
  },
  {
   "cell_type": "code",
   "execution_count": 12,
   "id": "4f4b5ff4",
   "metadata": {},
   "outputs": [
    {
     "name": "stdout",
     "output_type": "stream",
     "text": [
      "Positive Scores Summary:\n",
      "Total Positive Scores: 165389834\n",
      "Average Positive Score: 848.94\n",
      "Minimum Positive Score: 0\n",
      "Maximum Positive Score: 5764420\n",
      "\n",
      "Negative Scores Summary:\n",
      "Total Negative Scores: 27482476\n",
      "Average Negative Score: 141.07\n",
      "Minimum Negative Score: 0\n",
      "Maximum Negative Score: 895978\n"
     ]
    }
   ],
   "source": [
    "# Extract positive and negative scores\n",
    "for app in dataset:\n",
    "    game = dataset[app]\n",
    "    positive_scores.append(game['positive'])\n",
    "    negative_scores.append(game['negative'])\n",
    "\n",
    "# Calculate summary statistics for positive scores\n",
    "total_positive = sum(positive_scores)\n",
    "average_positive = sum(positive_scores) / len(positive_scores) if positive_scores else 0\n",
    "min_positive = min(positive_scores) if positive_scores else 0\n",
    "max_positive = max(positive_scores) if positive_scores else 0\n",
    "\n",
    "# Calculate summary statistics for negative scores\n",
    "total_negative = sum(negative_scores)\n",
    "average_negative = sum(negative_scores) / len(negative_scores) if negative_scores else 0\n",
    "min_negative = min(negative_scores) if negative_scores else 0\n",
    "max_negative = max(negative_scores) if negative_scores else 0\n",
    "\n",
    "# Print the summary\n",
    "print(f\"Positive Scores Summary:\")\n",
    "print(f\"Total Positive Scores: {total_positive}\")\n",
    "print(f\"Average Positive Score: {average_positive:.2f}\")\n",
    "print(f\"Minimum Positive Score: {min_positive}\")\n",
    "print(f\"Maximum Positive Score: {max_positive}\")\n",
    "\n",
    "print(\"\\nNegative Scores Summary:\")\n",
    "print(f\"Total Negative Scores: {total_negative}\")\n",
    "print(f\"Average Negative Score: {average_negative:.2f}\")\n",
    "print(f\"Minimum Negative Score: {min_negative}\")\n",
    "print(f\"Maximum Negative Score: {max_negative}\")"
   ]
  },
  {
   "cell_type": "code",
   "execution_count": 13,
   "id": "b50c8123",
   "metadata": {},
   "outputs": [
    {
     "name": "stdout",
     "output_type": "stream",
     "text": [
      "Counter-Strike: Global Offensive\n",
      "5764420\n",
      "PUBG: BATTLEGROUNDS\n",
      "895978\n"
     ]
    }
   ],
   "source": [
    "# Initialize variables to track the games with the most positive and most negative scores\n",
    "max_positive_score = 0\n",
    "max_positive_game = None\n",
    "max_negative_score = 0\n",
    "max_negative_game = None\n",
    "\n",
    "# Iterate through the dataset to find the games with the most positive and most negative scores\n",
    "for app in dataset:\n",
    "    game = dataset[app]\n",
    "    if game['positive'] > max_positive_score:\n",
    "        max_positive_score = game['positive']\n",
    "        max_positive_game = game\n",
    "    if game['negative'] > max_negative_score:\n",
    "        max_negative_score = game['negative']\n",
    "        max_negative_game = game\n",
    "        \n",
    "print(max_positive_game['name'])\n",
    "print(max_positive_game['positive'])\n",
    "\n",
    "print(max_negative_game['name'])\n",
    "print(max_negative_game['negative'])"
   ]
  },
  {
   "cell_type": "code",
   "execution_count": 14,
   "id": "608c795d",
   "metadata": {},
   "outputs": [
    {
     "data": {
      "image/png": "[encoded data removed]",
      "text/plain": [
       "<Figure size 1000x600 with 1 Axes>"
      ]
     },
     "metadata": {},
     "output_type": "display_data"
    }
   ],
   "source": [
    "# Data for plotting\n",
    "metrics = ['Total', 'Average', 'Minimum', 'Maximum']\n",
    "concurrent_players = [total_ccu, average_ccu, min_ccu, max_ccu]\n",
    "positive_scores = [total_positive, average_positive, min_positive, max_positive]\n",
    "negative_scores = [total_negative, average_negative, min_negative, max_negative]\n",
    "\n",
    "# Create a figure and axis\n",
    "fig, ax = plt.subplots(figsize=(10, 6))\n",
    "\n",
    "# Plotting the data\n",
    "ax.bar(metrics, concurrent_players, label='Concurrent Players', alpha=0.7)\n",
    "ax.bar(metrics, positive_scores, label='Positive', alpha=0.7)\n",
    "ax.bar(metrics, negative_scores, label='Negative', alpha=0.7)\n",
    "\n",
    "# Adding labels and title\n",
    "ax.set_xlabel('Metrics')\n",
    "ax.set_ylabel('Values')\n",
    "ax.set_title('Summary Statistics')\n",
    "ax.legend()\n",
    "\n",
    "# Display the plot\n",
    "plt.show()"
   ]
  },
  {
   "cell_type": "code",
   "execution_count": null,
   "id": "7f847649",
   "metadata": {},
   "outputs": [],
   "source": []
  }
 ],
 "metadata": {
  "kernelspec": {
   "display_name": "Python 3 (ipykernel)",
   "language": "python",
   "name": "python3"
  },
  "language_info": {
   "codemirror_mode": {
    "name": "ipython",
    "version": 3
   },
   "file_extension": ".py",
   "mimetype": "text/x-python",
   "name": "python",
   "nbconvert_exporter": "python",
   "pygments_lexer": "ipython3",
   "version": "3.10.9"
  }
 },
 "nbformat": 4,
 "nbformat_minor": 5
}
